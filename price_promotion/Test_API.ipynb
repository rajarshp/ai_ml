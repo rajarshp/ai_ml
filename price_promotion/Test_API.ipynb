{
 "cells": [
  {
   "cell_type": "code",
   "execution_count": 1,
   "id": "ad15fd9b-a0b1-4f87-80c0-b57f996fb4eb",
   "metadata": {},
   "outputs": [],
   "source": [
    "import requests\n",
    "import json"
   ]
  },
  {
   "cell_type": "code",
   "execution_count": 34,
   "id": "715833d0-17ee-4ccc-abac-83d3e5861ac1",
   "metadata": {},
   "outputs": [
    {
     "name": "stdout",
     "output_type": "stream",
     "text": [
      "[{'Predicted Max Price': 1086.3526843028417, 'Predicted Min Price': 875.7155791248493, 'Predicted_Price': 1145.3786544162965, 'Product_ID': 'tv1'}]\n"
     ]
    }
   ],
   "source": [
    "# Define the API endpoint URL\n",
    "api_url = 'http://localhost:6767/predict'  # Replace with your API URL\n",
    "\n",
    "# Sample input data as JSON\n",
    "input_data = [{\n",
    "    \"product_id\" : \"tv1\",\n",
    "    \"actual_price\": 1200,\n",
    "    \"competitor1\": 1000,\n",
    "    \"competitor2\": 1100,\n",
    "    \"competitor3\": 1050,\n",
    "    \"competitor4\": 950,\n",
    "    \"competitor5\": 980,\n",
    "    \"product_type\": \"electronics\"\n",
    "}]\n",
    "\n",
    "# Convert dict to JSON string\n",
    "json_data = json.dumps(input_data)\n",
    "\n",
    "# Send POST request to the API\n",
    "response = requests.post(api_url, data=json_data, headers={'Content-Type': 'application/json'})\n",
    "\n",
    "# Check if the request was successful (status code 200)\n",
    "if response.status_code == 200:\n",
    "    # Print the response JSON\n",
    "    print(response.json())\n",
    "else:\n",
    "    # Print error message if request failed\n",
    "    print(f\"Error: {response.text}\")"
   ]
  },
  {
   "cell_type": "code",
   "execution_count": null,
   "id": "957e9bd7-7ea1-4ba2-9071-8679c6dfdb7d",
   "metadata": {},
   "outputs": [],
   "source": []
  },
  {
   "cell_type": "code",
   "execution_count": null,
   "id": "62223d21-b037-4c1b-8e67-6e1f1cb94958",
   "metadata": {},
   "outputs": [],
   "source": []
  }
 ],
 "metadata": {
  "kernelspec": {
   "display_name": "Python 3 (ipykernel)",
   "language": "python",
   "name": "python3"
  },
  "language_info": {
   "codemirror_mode": {
    "name": "ipython",
    "version": 3
   },
   "file_extension": ".py",
   "mimetype": "text/x-python",
   "name": "python",
   "nbconvert_exporter": "python",
   "pygments_lexer": "ipython3",
   "version": "3.12.4"
  },
  "widgets": {
   "application/vnd.jupyter.widget-state+json": {
    "state": {},
    "version_major": 2,
    "version_minor": 0
   }
  }
 },
 "nbformat": 4,
 "nbformat_minor": 5
}
