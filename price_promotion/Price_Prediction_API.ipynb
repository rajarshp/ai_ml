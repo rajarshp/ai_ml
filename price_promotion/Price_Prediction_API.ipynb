{
 "cells": [
  {
   "cell_type": "code",
   "execution_count": 1,
   "id": "ed5a1288-f4f5-4661-b1c7-228f5f4e2881",
   "metadata": {},
   "outputs": [],
   "source": [
    "from flask import Flask, request, jsonify\n",
    "import joblib\n",
    "import pandas as pd\n",
    "import numpy as np\n",
    "from sklearn.preprocessing import StandardScaler\n",
    "from sklearn.compose import ColumnTransformer\n",
    "from sklearn.pipeline import Pipeline"
   ]
  },
  {
   "cell_type": "code",
   "execution_count": 2,
   "id": "14f18962-8cc8-4dcd-8e02-9d54c73560d4",
   "metadata": {},
   "outputs": [],
   "source": [
    "app = Flask(__name__)\n",
    "\n",
    "# Load the trained model\n",
    "model = joblib.load('trained_model.pkl')  # Replace with your model file path\n"
   ]
  },
  {
   "cell_type": "code",
   "execution_count": 4,
   "id": "f88038c6-8196-4677-8c68-12412cc2157a",
   "metadata": {},
   "outputs": [
    {
     "ename": "IndentationError",
     "evalue": "unindent does not match any outer indentation level (<tokenize>, line 4)",
     "output_type": "error",
     "traceback": [
      "\u001b[1;36m  File \u001b[1;32m<tokenize>:4\u001b[1;36m\u001b[0m\n\u001b[1;33m    competitor_columns = data.filter(like='competitor').columns\u001b[0m\n\u001b[1;37m    ^\u001b[0m\n\u001b[1;31mIndentationError\u001b[0m\u001b[1;31m:\u001b[0m unindent does not match any outer indentation level\n"
     ]
    }
   ],
   "source": [
    "# Define preprocessing\n",
    "def preprocess_input(data):\n",
    "     \\print(\"Raw Data\", data)\n",
    "    competitor_columns = data.filter(like='competitor').columns\n",
    "    data['max_discount'] = np.round(data['actual_price'] - data[competitor_columns].min(axis=1), 2)\n",
    "\n",
    "    data['mmin_price'] = data[competitor_columns].min(axis=1)\n",
    "    numeric_features = [col for col in data.columns if pd.api.types.is_numeric_dtype(data[col])]\n",
    "    preprocessor = ColumnTransformer(\n",
    "        transformers=[\n",
    "            ('num', StandardScaler(), numeric_features),\n",
    "            ('cat', 'passthrough', ['product_type'])  # Assuming 'product_type' is categorical\n",
    "        ])\n",
    "    print(\"Transformed Data\", data)\n",
    "    return preprocessor.transform(data)"
   ]
  },
  {
   "cell_type": "code",
   "execution_count": null,
   "id": "4d4f59a3-1ef6-4d96-8f1a-a45838f937a2",
   "metadata": {},
   "outputs": [],
   "source": [
    "# Endpoint to predict promotional price\n",
    "@app.route('/predict', methods=['POST'])\n",
    "def predict():\n",
    "    try:\n",
    "        # Get JSON request data\n",
    "        json_data = request.get_json()\n",
    "\n",
    "        # Convert JSON to DataFrame\n",
    "        input_data = pd.DataFrame([json_data])\n",
    "\n",
    "        # Preprocess input data\n",
    "        X_input = preprocess_input(input_data)\n",
    "\n",
    "        # Predict with the model\n",
    "        predicted_price = model.predict(X_input)[0]\n",
    "\n",
    "        # Prepare response\n",
    "        response = {\n",
    "            'predicted_promotional_price': predicted_price\n",
    "        }\n",
    "\n",
    "        return jsonify(response)\n",
    "\n",
    "    except Exception as e:\n",
    "        return jsonify({'error': str(e)}), 400\n",
    "\n",
    "if __name__ == '__main__':\n",
    "    app.run(debug=True, port=6767, use_reloader=False)"
   ]
  },
  {
   "cell_type": "code",
   "execution_count": null,
   "id": "d9b5813d-c664-4ef5-bb47-16cbbadec355",
   "metadata": {},
   "outputs": [],
   "source": [
    "%tb"
   ]
  },
  {
   "cell_type": "code",
   "execution_count": null,
   "id": "9138ba2d-0240-43dd-bdd5-53580923b19a",
   "metadata": {},
   "outputs": [],
   "source": []
  }
 ],
 "metadata": {
  "kernelspec": {
   "display_name": "Python 3 (ipykernel)",
   "language": "python",
   "name": "python3"
  },
  "language_info": {
   "codemirror_mode": {
    "name": "ipython",
    "version": 3
   },
   "file_extension": ".py",
   "mimetype": "text/x-python",
   "name": "python",
   "nbconvert_exporter": "python",
   "pygments_lexer": "ipython3",
   "version": "3.11.7"
  },
  "widgets": {
   "application/vnd.jupyter.widget-state+json": {
    "state": {},
    "version_major": 2,
    "version_minor": 0
   }
  }
 },
 "nbformat": 4,
 "nbformat_minor": 5
}
