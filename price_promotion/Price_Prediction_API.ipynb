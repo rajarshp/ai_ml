{
 "cells": [
  {
   "cell_type": "code",
   "execution_count": 1,
   "id": "ed5a1288-f4f5-4661-b1c7-228f5f4e2881",
   "metadata": {},
   "outputs": [],
   "source": [
    "from flask import Flask, request, jsonify\n",
    "import pickle\n",
    "import pandas as pd\n",
    "import numpy as np\n",
    "from sklearn.compose import ColumnTransformer\n",
    "from sklearn.preprocessing import StandardScaler, OneHotEncoder"
   ]
  },
  {
   "cell_type": "code",
   "execution_count": 2,
   "id": "14f18962-8cc8-4dcd-8e02-9d54c73560d4",
   "metadata": {},
   "outputs": [],
   "source": [
    "app = Flask(__name__)\n",
    "\n",
    "# Load the pre-trained models and encoder\n",
    "with open('base_model.pkl', 'rb') as f:\n",
    "    base_model = pickle.load(f)\n",
    "\n",
    "with open('min_price_model.pkl', 'rb') as f:\n",
    "    lower_model = pickle.load(f)\n",
    "\n",
    "with open('max_price_model.pkl', 'rb') as f:\n",
    "    upper_model = pickle.load(f)\n"
   ]
  },
  {
   "cell_type": "code",
   "execution_count": null,
   "id": "06f176cf-ac92-47a3-bb69-b5ac27853d7c",
   "metadata": {},
   "outputs": [],
   "source": [
    "# read json response to create the data\n",
    "\n",
    "def process_data_from_json(data):\n",
    "    \n",
    "    "
   ]
  },
  {
   "cell_type": "code",
   "execution_count": 3,
   "id": "f88038c6-8196-4677-8c68-12412cc2157a",
   "metadata": {},
   "outputs": [],
   "source": [
    "# Define preprocessing\n",
    "def preprocess_input(data):\n",
    "    try:\n",
    "        print(\"Raw Data\", str(data))\n",
    "        competitor_columns = competitor_columns = [col for col in data.columns if col.startswith('competitor')][:5]\n",
    "        other_columns = [col for col in data.columns if not col.startswith('competitor')]\n",
    "        keep_columns = other_columns + competitor_columns\n",
    "\n",
    "        data[competitor_columns] = data[competitor_columns].apply(lambda x: x.fillna(x.mean()), axis=1)\n",
    "        data = data[keep_columns]\n",
    "        data['max_discount'] = np.round(data['actual_price'] - data[competitor_columns].min(axis=1), 2)\n",
    "    \n",
    "        data['min_price'] = data[competitor_columns].min(axis=1)\n",
    "        # numeric_features = [col for col in data.columns if pd.api.types.is_numeric_dtype(data[col])]\n",
    "        # preprocessor = ColumnTransformer(\n",
    "        #     transformers=[\n",
    "        #         ('num', StandardScaler(), numeric_features)\n",
    "        #     ])\n",
    "        # print(\"Transformed Data\", data)\n",
    "        # preprocessor.fit(data)\n",
    "        # return preprocessor.transform(data)\n",
    "        print('TRANSFORMED DATA', data)\n",
    "        return data.drop(columns=['product_id', 'product_type'])\n",
    "    except Exception as e:\n",
    "        print(\"Error\", str(e))\n",
    "    "
   ]
  },
  {
   "cell_type": "code",
   "execution_count": null,
   "id": "4d4f59a3-1ef6-4d96-8f1a-a45838f937a2",
   "metadata": {},
   "outputs": [
    {
     "name": "stdout",
     "output_type": "stream",
     "text": [
      " * Serving Flask app '__main__'\n",
      " * Debug mode: on\n"
     ]
    },
    {
     "name": "stderr",
     "output_type": "stream",
     "text": [
      "WARNING: This is a development server. Do not use it in a production deployment. Use a production WSGI server instead.\n",
      " * Running on http://127.0.0.1:6767\n",
      "Press CTRL+C to quit\n"
     ]
    },
    {
     "name": "stdout",
     "output_type": "stream",
     "text": [
      "Raw Data   product_id  actual_price  competitor1  competitor2  competitor3  \\\n",
      "0        tv1          1200         1000         1100         1050   \n",
      "\n",
      "   competitor4  competitor5 product_type  \n",
      "0          950          980  electronics  \n",
      "TRANSFORMED DATA   product_id  actual_price product_type  competitor1  competitor2  \\\n",
      "0        tv1          1200  electronics         1000         1100   \n",
      "\n",
      "   competitor3  competitor4  competitor5  max_discount  min_price  \n",
      "0         1050          950          980           250        950  \n",
      "INPUT DATA    actual_price  competitor1  competitor2  competitor3  competitor4  \\\n",
      "0          1200         1000         1100         1050          950   \n",
      "\n",
      "   competitor5  max_discount  min_price  \n",
      "0          980           250        950  \n"
     ]
    },
    {
     "name": "stderr",
     "output_type": "stream",
     "text": [
      "C:\\Users\\rajar\\AppData\\Local\\Temp\\ipykernel_22868\\2467851939.py:11: SettingWithCopyWarning: \n",
      "A value is trying to be set on a copy of a slice from a DataFrame.\n",
      "Try using .loc[row_indexer,col_indexer] = value instead\n",
      "\n",
      "See the caveats in the documentation: https://pandas.pydata.org/pandas-docs/stable/user_guide/indexing.html#returning-a-view-versus-a-copy\n",
      "  data['max_discount'] = np.round(data['actual_price'] - data[competitor_columns].min(axis=1), 2)\n",
      "C:\\Users\\rajar\\AppData\\Local\\Temp\\ipykernel_22868\\2467851939.py:13: SettingWithCopyWarning: \n",
      "A value is trying to be set on a copy of a slice from a DataFrame.\n",
      "Try using .loc[row_indexer,col_indexer] = value instead\n",
      "\n",
      "See the caveats in the documentation: https://pandas.pydata.org/pandas-docs/stable/user_guide/indexing.html#returning-a-view-versus-a-copy\n",
      "  data['min_price'] = data[competitor_columns].min(axis=1)\n",
      "127.0.0.1 - - [28/Jun/2024 17:05:14] \"POST /predict HTTP/1.1\" 200 -\n"
     ]
    }
   ],
   "source": [
    "# Endpoint to predict promotional price\n",
    "@app.route('/predict', methods=['POST'])\n",
    "def predict():\n",
    "    try:\n",
    "        # Get JSON request data\n",
    "        json_data = request.get_json()\n",
    "\n",
    "        # Check if the input data is in the correct format\n",
    "        if not isinstance(json_data, list):\n",
    "            raise ValueError(\"Input data should be a list of dictionaries\")\n",
    "        \n",
    "        for item in json_data:\n",
    "            if not isinstance(item, dict):\n",
    "                raise ValueError(\"Each item in the input data should be a dictionary\")\n",
    "                \n",
    "        # Convert JSON to DataFrame\n",
    "        input_data = pd.DataFrame(json_data)\n",
    "       # input_data = input_data.drop(columns=['product_id', 'product_type', 'timestamp', 'promotional_price'])\n",
    "        # Preprocess input data\n",
    "        X_input = preprocess_input(input_data)\n",
    "        print('INPUT DATA', X_input)\n",
    "\n",
    "        # Predict the base price\n",
    "        base_predictions = base_model.predict(X_input)\n",
    "        \n",
    "        # Predict the quantiles\n",
    "        lower_bound = lower_model.predict(X_input)\n",
    "        upper_bound = upper_model.predict(X_input)\n",
    "        \n",
    "        # Create a response JSON\n",
    "        response = []\n",
    "        for idx, row in input_data.iterrows():\n",
    "            result = {\n",
    "                'Product_ID': row['product_id'],\n",
    "                'Predicted_Price': base_predictions[idx],\n",
    "                'Predicted Min Price': lower_bound[idx],\n",
    "                'Predicted Max Price': upper_bound[idx]\n",
    "            }\n",
    "            response.append(result)\n",
    "        \n",
    "        return jsonify(response)\n",
    "\n",
    "    except Exception as e:\n",
    "        print(str(e))\n",
    "        return jsonify({'error: something went wrong': str(e)}), 500\n",
    "\n",
    "if __name__ == '__main__':\n",
    "    app.run(debug=True, port=6767, use_reloader=False)"
   ]
  },
  {
   "cell_type": "code",
   "execution_count": null,
   "id": "d9b5813d-c664-4ef5-bb47-16cbbadec355",
   "metadata": {},
   "outputs": [],
   "source": [
    "%tb"
   ]
  },
  {
   "cell_type": "code",
   "execution_count": null,
   "id": "9138ba2d-0240-43dd-bdd5-53580923b19a",
   "metadata": {},
   "outputs": [],
   "source": []
  }
 ],
 "metadata": {
  "kernelspec": {
   "display_name": "Python 3 (ipykernel)",
   "language": "python",
   "name": "python3"
  },
  "language_info": {
   "codemirror_mode": {
    "name": "ipython",
    "version": 3
   },
   "file_extension": ".py",
   "mimetype": "text/x-python",
   "name": "python",
   "nbconvert_exporter": "python",
   "pygments_lexer": "ipython3",
   "version": "3.12.4"
  },
  "widgets": {
   "application/vnd.jupyter.widget-state+json": {
    "state": {},
    "version_major": 2,
    "version_minor": 0
   }
  }
 },
 "nbformat": 4,
 "nbformat_minor": 5
}
