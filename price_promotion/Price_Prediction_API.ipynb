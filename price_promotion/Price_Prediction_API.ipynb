{
 "cells": [
  {
   "cell_type": "code",
   "execution_count": 1,
   "id": "ed5a1288-f4f5-4661-b1c7-228f5f4e2881",
   "metadata": {},
   "outputs": [],
   "source": [
    "from flask import Flask, request, jsonify\n",
    "import pickle\n",
    "import pandas as pd\n",
    "import numpy as np\n",
    "from sklearn.compose import ColumnTransformer\n",
    "from sklearn.preprocessing import StandardScaler, OneHotEncoder"
   ]
  },
  {
   "cell_type": "code",
   "execution_count": 2,
   "id": "14f18962-8cc8-4dcd-8e02-9d54c73560d4",
   "metadata": {},
   "outputs": [],
   "source": [
    "app = Flask(__name__)\n",
    "\n",
    "# Load the pre-trained models and encoder\n",
    "with open('base_model.pkl', 'rb') as f:\n",
    "    base_model = pickle.load(f)\n",
    "\n",
    "with open('min_price_model.pkl', 'rb') as f:\n",
    "    lower_model = pickle.load(f)\n",
    "\n",
    "with open('max_price_model.pkl', 'rb') as f:\n",
    "    upper_model = pickle.load(f)\n"
   ]
  },
  {
   "cell_type": "code",
   "execution_count": 3,
   "id": "06f176cf-ac92-47a3-bb69-b5ac27853d7c",
   "metadata": {},
   "outputs": [],
   "source": [
    "# read json response to create the data\n",
    "\n",
    "def process_data_from_json(data):\n",
    "\n",
    "    try:\n",
    "        # Initialize lists to store extracted data\n",
    "        product_id = data[0]['title']\n",
    "\n",
    "        # Initialize an empty list to store the competitor prices\n",
    "        competitor_prices = []\n",
    "        \n",
    "        # Iterate through the JSON data to collect competitor prices (limit to the first 5 records with price > 0)\n",
    "        for record in data:\n",
    "            price = float(record['price'].replace('$',''))\n",
    "            if price > 0:\n",
    "                competitor_prices.append(price)\n",
    "            if len(competitor_prices) == 5:\n",
    "                break\n",
    "        \n",
    "        # Create dynamic column names for competitors (comp1, comp2, ...)\n",
    "        competitor_columns = [f\"comp{i+1}\" for i in range(len(competitor_prices))]\n",
    "        \n",
    "        # Create DataFrame\n",
    "        data = {'product_id': [product_id]}\n",
    "        for i, price in enumerate(competitor_prices):\n",
    "            data[f'comp{i+1}'] = [price]\n",
    "        \n",
    "        data_final = pd.DataFrame(data)\n",
    "        print(data_final)\n",
    "        return data_final\n",
    "    except Exception as e:\n",
    "        print(\"Error in process_data_from_json\", str(e))\n",
    "    \n",
    "\n",
    "    "
   ]
  },
  {
   "cell_type": "code",
   "execution_count": 4,
   "id": "f88038c6-8196-4677-8c68-12412cc2157a",
   "metadata": {},
   "outputs": [],
   "source": [
    "# Define preprocessing\n",
    "def preprocess_input(data):\n",
    "    try:\n",
    "        print(\"Raw Data\", str(data))\n",
    "        competitor_columns = competitor_columns = [col for col in data.columns if col.startswith('competitor')][:5]\n",
    "        other_columns = [col for col in data.columns if not col.startswith('competitor')]\n",
    "        keep_columns = other_columns + competitor_columns\n",
    "\n",
    "        data[competitor_columns] = data[competitor_columns].apply(lambda x: x.fillna(x.mean()), axis=1)\n",
    "        data = data[keep_columns]\n",
    "        data['actual_price'] = data[competitor_columns].max(axis=1)\n",
    "        data['max_discount'] = np.round(data['actual_price'] - data[competitor_columns].min(axis=1), 2)\n",
    "    \n",
    "        data['min_price'] = data[competitor_columns].min(axis=1)\n",
    "        # numeric_features = [col for col in data.columns if pd.api.types.is_numeric_dtype(data[col])]\n",
    "        # preprocessor = ColumnTransformer(\n",
    "        #     transformers=[\n",
    "        #         ('num', StandardScaler(), numeric_features)\n",
    "        #     ])\n",
    "        # print(\"Transformed Data\", data)\n",
    "        # preprocessor.fit(data)\n",
    "        # return preprocessor.transform(data)\n",
    "        #print('TRANSFORMED DATA', data)\n",
    "        return data.drop(columns=['product_id'])\n",
    "    except Exception as e:\n",
    "        print(\"Error\", str(e))\n",
    "    "
   ]
  },
  {
   "cell_type": "code",
   "execution_count": null,
   "id": "4d4f59a3-1ef6-4d96-8f1a-a45838f937a2",
   "metadata": {},
   "outputs": [
    {
     "name": "stdout",
     "output_type": "stream",
     "text": [
      " * Serving Flask app '__main__'\n",
      " * Debug mode: on\n"
     ]
    },
    {
     "name": "stderr",
     "output_type": "stream",
     "text": [
      "WARNING: This is a development server. Do not use it in a production deployment. Use a production WSGI server instead.\n",
      " * Running on http://127.0.0.1:6767\n",
      "Press CTRL+C to quit\n",
      "127.0.0.1 - - [28/Jun/2024 19:35:18] \"POST /predict HTTP/1.1\" 200 -\n"
     ]
    },
    {
     "name": "stdout",
     "output_type": "stream",
     "text": [
      "                                      product_id  comp1   comp2   comp3  \\\n",
      "0  Google Pixel 7 Pro - 128 GB - Snow - Unlocked  899.0  195.01  349.99   \n",
      "\n",
      "   comp4  comp5  \n",
      "0  399.0  599.0  \n",
      "Raw Data                                       product_id  comp1   comp2   comp3  \\\n",
      "0  Google Pixel 7 Pro - 128 GB - Snow - Unlocked  899.0  195.01  349.99   \n",
      "\n",
      "   comp4  comp5  \n",
      "0  399.0  599.0  \n"
     ]
    }
   ],
   "source": [
    "# Endpoint to predict promotional price\n",
    "@app.route('/predict', methods=['POST'])\n",
    "def predict():\n",
    "    try:\n",
    "        # Get JSON request data\n",
    "        json_data = request.get_json()\n",
    "\n",
    "        # Check if the input data is in the correct format\n",
    "        if not isinstance(json_data, list):\n",
    "            raise ValueError(\"Input data should be a list of dictionaries\")\n",
    "        \n",
    "        for item in json_data:\n",
    "            if not isinstance(item, dict):\n",
    "                raise ValueError(\"Each item in the input data should be a dictionary\")\n",
    "\n",
    "        json_data = process_data_from_json(json_data)\n",
    "                \n",
    "        # Convert JSON to DataFrame\n",
    "        input_data = pd.DataFrame(json_data)\n",
    "       # input_data = input_data.drop(columns=['product_id', 'product_type', 'timestamp', 'promotional_price'])\n",
    "        # Preprocess input data\n",
    "        X_input = preprocess_input(input_data)\n",
    "\n",
    "        # Predict the base price\n",
    "        base_predictions = base_model.predict(X_input)\n",
    "        \n",
    "        # Predict the quantiles\n",
    "        lower_bound = lower_model.predict(X_input)\n",
    "        upper_bound = upper_model.predict(X_input)\n",
    "        \n",
    "        # Create a response JSON\n",
    "        response = []\n",
    "        for idx, row in input_data.iterrows():\n",
    "            result = {\n",
    "                'product_ID': row['product_id'],\n",
    "                'predicted_price': base_predictions[idx],\n",
    "                'predicted_min_price': lower_bound[idx],\n",
    "                'predicted_max_price': upper_bound[idx]\n",
    "            }\n",
    "            response.append(result)\n",
    "        \n",
    "        return jsonify(response)\n",
    "\n",
    "    except Exception as e:\n",
    "        print(str(e))\n",
    "        return jsonify({'error: something went wrong': str(e)}), 500\n",
    "\n",
    "if __name__ == '__main__':\n",
    "    app.run(debug=True, port=6767, use_reloader=False)"
   ]
  },
  {
   "cell_type": "code",
   "execution_count": null,
   "id": "d9b5813d-c664-4ef5-bb47-16cbbadec355",
   "metadata": {},
   "outputs": [],
   "source": [
    "%tb"
   ]
  },
  {
   "cell_type": "code",
   "execution_count": null,
   "id": "9138ba2d-0240-43dd-bdd5-53580923b19a",
   "metadata": {},
   "outputs": [],
   "source": []
  }
 ],
 "metadata": {
  "kernelspec": {
   "display_name": "Python 3 (ipykernel)",
   "language": "python",
   "name": "python3"
  },
  "language_info": {
   "codemirror_mode": {
    "name": "ipython",
    "version": 3
   },
   "file_extension": ".py",
   "mimetype": "text/x-python",
   "name": "python",
   "nbconvert_exporter": "python",
   "pygments_lexer": "ipython3",
   "version": "3.12.4"
  },
  "widgets": {
   "application/vnd.jupyter.widget-state+json": {
    "state": {},
    "version_major": 2,
    "version_minor": 0
   }
  }
 },
 "nbformat": 4,
 "nbformat_minor": 5
}
